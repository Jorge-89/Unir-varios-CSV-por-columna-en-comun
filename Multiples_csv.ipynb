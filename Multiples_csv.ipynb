{
 "cells": [
  {
   "cell_type": "code",
   "execution_count": 6,
   "metadata": {},
   "outputs": [],
   "source": [
    "import pandas as pd\n",
    "import glob\n",
    "from functools import reduce\n"
   ]
  },
  {
   "cell_type": "code",
   "execution_count": 17,
   "metadata": {},
   "outputs": [],
   "source": [
    "path = r'C:\\Users\\jorge\\Documents\\unir_csv' # acá se coloca la ruta del directorio\n",
    "all_files = glob.glob(path + \"/*.csv\")\n",
    "\n",
    "dfs = [] #se crea una lista donde se anexan los dataframes\n",
    "\n",
    "for filename in all_files:\n",
    "    df = pd.read_csv(filename, index_col=None, header=0)\n",
    "    df[\"fecha_completa\"]= df[\"Fecha\"]+\" \"+df[\"Hora\"] #se crea un campo llamado fecha_completa\n",
    "    dfs.append(df)\n",
    "\n"
   ]
  },
  {
   "cell_type": "code",
   "execution_count": 18,
   "metadata": {},
   "outputs": [],
   "source": [
    "df_final = reduce(lambda left,right: pd.merge(left,right,on='fecha_completa'), dfs)\n",
    "# se usa una función reduce para unir todos los dataframes por la columna en comun fecha_completa"
   ]
  },
  {
   "cell_type": "code",
   "execution_count": 19,
   "metadata": {},
   "outputs": [],
   "source": [
    "df_final.to_csv(\"C:/Users\\jorge\\Downloads/jkk).csv\", sep =\",\")\n",
    "#se exporta el resultado final csv, separado por ,"
   ]
  }
 ],
 "metadata": {
  "kernelspec": {
   "display_name": "Python 3",
   "language": "python",
   "name": "python3"
  },
  "language_info": {
   "codemirror_mode": {
    "name": "ipython",
    "version": 3
   },
   "file_extension": ".py",
   "mimetype": "text/x-python",
   "name": "python",
   "nbconvert_exporter": "python",
   "pygments_lexer": "ipython3",
   "version": "3.7.6"
  }
 },
 "nbformat": 4,
 "nbformat_minor": 4
}
